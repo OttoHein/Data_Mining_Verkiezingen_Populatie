{
 "cells": [
  {
   "cell_type": "markdown",
   "metadata": {},
   "source": [
    "<H1>Correlatieonderzoek - Gemeentes</H1>"
   ]
  },
  {
   "cell_type": "code",
   "execution_count": 1,
   "metadata": {},
   "outputs": [
    {
     "name": "stdout",
     "output_type": "stream",
     "text": [
      "+-----+\n",
      "|hello|\n",
      "+-----+\n",
      "|spark|\n",
      "+-----+\n",
      "\n"
     ]
    }
   ],
   "source": [
    "import findspark\n",
    "findspark.init()\n",
    "\n",
    "import pyspark # only run after findspark.init()\n",
    "from pyspark.sql import SparkSession\n",
    "\n",
    "from pyspark import SparkConf\n",
    "\n",
    "#Functionality imports\n",
    "from pyspark.sql import *\n",
    "from pyspark.sql.types import *\n",
    "import folium\n",
    "from IPython.display import HTML\n",
    "%matplotlib inline\n",
    "import matplotlib.pyplot as plt\n",
    "from pyspark.mllib.stat import Statistics\n",
    "\n",
    "sc = SparkSession.builder.getOrCreate()\n",
    "\n",
    "#Configure to use 4 cores\n",
    "conf = pyspark.SparkConf().setAll([('spark.executor.memory', '8g'), ('spark.executor.cores', '4'), ('spark.cores.max', '4'), ('spark.driver.memory','8g')])\n",
    "sc.stop()\n",
    "sc = pyspark.SparkContext(conf=conf)\n",
    "\n",
    "sqlContext = SQLContext(sc)\n",
    "\n",
    "sqlContext.setConf('spark.sql.shuffle.partitions', '8')\n",
    "\n",
    "df = sqlContext.sql('''select 'spark' as hello ''')\n",
    "df.show()"
   ]
  },
  {
   "cell_type": "markdown",
   "metadata": {},
   "source": [
    "<H2>Inlezen verkiezingsdata</H2>"
   ]
  },
  {
   "cell_type": "code",
   "execution_count": 5,
   "metadata": {
    "scrolled": true
   },
   "outputs": [
    {
     "name": "stdout",
     "output_type": "stream",
     "text": [
      "+--------------+-----+-------------+-------+-----+-----+-----+----+\n",
      "|      Gemeente|Groen|Vlaams_Belang|OpenVld| sp_a| N_VA| CD_V|PVDA|\n",
      "+--------------+-----+-------------+-------+-----+-----+-----+----+\n",
      "|      Geetbets|  156|          217|    904|  692| 1257|  786|  63|\n",
      "|        Linter|  286|          253|    871|  667| 1488| 1348|  72|\n",
      "|     Zoutleeuw|  257|          298|   1119|  914| 1838| 1215|  90|\n",
      "|       Avelgem|  413|          296|   1032| 1427| 1555| 1769|  84|\n",
      "|Spiere-Helkijn|  111|           50|    308|  237|  206|  278|  17|\n",
      "|       Beernem|  876|          448|   1468| 1360| 3234| 2970| 146|\n",
      "|  Blankenberge|  693|          903|   2502| 3108| 4200| 2033| 180|\n",
      "|        Brugge| 9112|         3847|   8623|15883|22058|17436|1475|\n",
      "|         Damme|  504|          308|   1057|  734| 2594| 2316|  91|\n",
      "|       Jabbeke|  616|          452|   1026| 1248| 3001| 2731| 104|\n",
      "|  Knokke-Heist| 1253|          999|   5076| 1966| 9561| 3811| 194|\n",
      "|      Oostkamp| 1226|          722|   1760| 2420| 4846| 4509| 235|\n",
      "|      Zedelgem| 1108|          800|   1452| 2154| 4622| 4891| 220|\n",
      "|    Zuienkerke|  117|          103|    299|  227|  662|  545|  23|\n",
      "|     Diksmuide|  566|          544|   1488| 1696| 3750| 3111| 158|\n",
      "|     Houthulst|  277|          416|    793|  899| 1935| 1824| 103|\n",
      "|     Koekelare|  255|          282|   1149| 1269| 1433| 1450|  75|\n",
      "|     Kortemark|  371|          376|   1739|  987| 2119| 2545| 109|\n",
      "|    Lo-Reninge|  122|           93|    278|  227|  698|  776|  13|\n",
      "|        Gistel|  483|          419|   1552| 1665| 2346| 2037| 124|\n",
      "+--------------+-----+-------------+-------+-----+-----+-----+----+\n",
      "only showing top 20 rows\n",
      "\n"
     ]
    }
   ],
   "source": [
    "#Getting data from csv into list, make sure to have the right location for the csv file\n",
    "election_data = (sc.textFile('../data/verkiezingen/verkiezingen2014VL.csv')).collect()\n",
    "\n",
    "#making lists from data\n",
    "lists = []\n",
    "\n",
    "for line in election_data:\n",
    "    if line[-1] ==\",\":\n",
    "        line = line[:-1]\n",
    "    if \"PartijNummer\" in line:\n",
    "        lists.append(list)\n",
    "        list = []\n",
    "        list.append(line)\n",
    "    if \"Groen\" in line or \"Vlaams Belang\" in line or \"OpenVld\" in line or \"sp.a\" in line or \"N-VA\" in line or \"CD&V\" in line or \"PVDA+\" in line:\n",
    "        list.append(line)\n",
    "\n",
    "#Remove empty lists from lists\n",
    "lists = [x for x in lists if x != []]\n",
    "\n",
    "#rowlist\n",
    "rowlist = []\n",
    "\n",
    "#Removing unwanted columns\n",
    "for item in lists:\n",
    "    #Parsing the rows\n",
    "    for line in item:\n",
    "        row = line.split(\",\")\n",
    "        del(row[0:2])\n",
    "        del(row[-1])\n",
    "        rowlist.append(row)\n",
    "\n",
    "#Making lists from what are to become the columns of the dataframe\n",
    "i = -1\n",
    "list0,list1,list2,list3,list4,list5,list6,list7 = [],[],[],[],[],[],[],[]\n",
    "for row in rowlist:\n",
    "    i += 1\n",
    "    if i == 0:\n",
    "        for x in row:\n",
    "            list0.append(x)\n",
    "    if i == 1:\n",
    "        for x in row:\n",
    "            list1.append(x)\n",
    "    if i == 2:\n",
    "        for x in row:\n",
    "            list2.append(x)\n",
    "    if i == 3:\n",
    "        for x in row:\n",
    "            list3.append(x)\n",
    "    if i == 4:\n",
    "        for x in row:\n",
    "            list4.append(x)\n",
    "    if i == 5:\n",
    "        for x in row:\n",
    "            list5.append(x)\n",
    "    if i == 6:\n",
    "        for x in row:\n",
    "            list6.append(x)\n",
    "    if i == 7:\n",
    "        i = -1\n",
    "        for x in row:\n",
    "            list7.append(x)\n",
    "\n",
    "rowlist = []\n",
    "#Making rows for the dataframe\n",
    "for i in range (0, len(list0)-1):\n",
    "    row = [list0[i], list1[i], list2[i], list3[i], list4[i], list5[i], list6[i], list7[i]]\n",
    "    rowlist.append(row)\n",
    "    \n",
    "#Making a schema for the dataframe\n",
    "schema = [\"Gemeente\",\"Groen\",\"Vlaams_Belang\",\"OpenVld\",\"sp_a\",\"N_VA\",\"CD_V\",\"PVDA\"]\n",
    "\n",
    "#create the frame\n",
    "election_df = sqlContext.createDataFrame(rowlist, schema)\n",
    "election_df.show()"
   ]
  },
  {
   "cell_type": "markdown",
   "metadata": {},
   "source": [
    "<H2>Verkiezingsresultaten weergeven</H2>"
   ]
  },
  {
   "cell_type": "code",
   "execution_count": 35,
   "metadata": {},
   "outputs": [
    {
     "name": "stdout",
     "output_type": "stream",
     "text": [
      "DataFrame[Gemeente: string]\n"
     ]
    }
   ],
   "source": [
    "#Get results for a municipality function\n",
    "def get_results_municipality(municipality):\n",
    "    election_df.createOrReplaceTempView(\"tempview\")\n",
    "    query = \"SELECT * FROM tempview WHERE Gemeente = '\" + municipality + \"'\"\n",
    "    mundf = sqlContext.sql(query)\n",
    "    return mundf\n",
    "def get_gemeentes():\n",
    "    election_df.createOrReplaceTempView(\"tempview\")\n",
    "    query = \"SELECT DISTINCT Gemeente FROM tempview\"\n",
    "    gemeentes = sqlContext.sql(query)\n",
    "    print(gemeentes)\n",
    "    return gemeentes\n",
    "lijst_gemeentes = sorted(get_gemeentes().collect(), key=lambda x: x.Gemeente)"
   ]
  },
  {
   "cell_type": "code",
   "execution_count": 42,
   "metadata": {},
   "outputs": [
    {
     "data": {
      "text/html": [
       "<div style='background-color:gainsboro; border:solid black; width:300px; padding:20px;'>Selecteer gemeente:<select onchange=\"set_munivars()\" id=\"muni\"><option value=\"Aalst\">Aalst</option><option value=\"Aalter\">Aalter</option><option value=\"Aarschot\">Aarschot</option><option value=\"Aartselaar\">Aartselaar</option><option value=\"Affligem\">Affligem</option><option value=\"Alken\">Alken</option><option value=\"Alveringem\">Alveringem</option><option value=\"Antwerpen\">Antwerpen</option><option value=\"Anzegem\">Anzegem</option><option value=\"Ardooie\">Ardooie</option><option value=\"Arendonk\">Arendonk</option><option value=\"As\">As</option><option value=\"Asse\">Asse</option><option value=\"Assenede\">Assenede</option><option value=\"Avelgem\">Avelgem</option><option value=\"Baarle-Hertog\">Baarle-Hertog</option><option value=\"Balen\">Balen</option><option value=\"Beernem\">Beernem</option><option value=\"Beerse\">Beerse</option><option value=\"Beersel\">Beersel</option><option value=\"Begijnendijk\">Begijnendijk</option><option value=\"Bekkevoort\">Bekkevoort</option><option value=\"Beringen\">Beringen</option><option value=\"Berlaar\">Berlaar</option><option value=\"Berlare\">Berlare</option><option value=\"Bertem\">Bertem</option><option value=\"Bever\">Bever</option><option value=\"Beveren\">Beveren</option><option value=\"Bierbeek\">Bierbeek</option><option value=\"Bilzen\">Bilzen</option><option value=\"Blankenberge\">Blankenberge</option><option value=\"Bocholt\">Bocholt</option><option value=\"Boechout\">Boechout</option><option value=\"Bonheiden\">Bonheiden</option><option value=\"Boom\">Boom</option><option value=\"Boortmeerbeek\">Boortmeerbeek</option><option value=\"Borgloon\">Borgloon</option><option value=\"Bornem\">Bornem</option><option value=\"Borsbeek\">Borsbeek</option><option value=\"Boutersem\">Boutersem</option><option value=\"Brakel\">Brakel</option><option value=\"Brasschaat\">Brasschaat</option><option value=\"Brecht\">Brecht</option><option value=\"Bredene\">Bredene</option><option value=\"Bree\">Bree</option><option value=\"Brugge\">Brugge</option><option value=\"Buggenhout\">Buggenhout</option><option value=\"Damme\">Damme</option><option value=\"Deerlijk\">Deerlijk</option><option value=\"Deinze\">Deinze</option><option value=\"Denderleeuw\">Denderleeuw</option><option value=\"Dendermonde\">Dendermonde</option><option value=\"Dentergem\">Dentergem</option><option value=\"Dessel\">Dessel</option><option value=\"Destelbergen\">Destelbergen</option><option value=\"Diepenbeek\">Diepenbeek</option><option value=\"Diest\">Diest</option><option value=\"Diksmuide\">Diksmuide</option><option value=\"Dilbeek\">Dilbeek</option><option value=\"Dilsen-Stokkem\">Dilsen-Stokkem</option><option value=\"Drogenbos\">Drogenbos</option><option value=\"Duffel\">Duffel</option><option value=\"Edegem\">Edegem</option><option value=\"Eeklo\">Eeklo</option><option value=\"Erpe-Mere\">Erpe-Mere</option><option value=\"Essen\">Essen</option><option value=\"Evergem\">Evergem</option><option value=\"Galmaarden\">Galmaarden</option><option value=\"Gavere\">Gavere</option><option value=\"Geel\">Geel</option><option value=\"Geetbets\">Geetbets</option><option value=\"Genk\">Genk</option><option value=\"Gent\">Gent</option><option value=\"Geraardsbergen\">Geraardsbergen</option><option value=\"Gingelom\">Gingelom</option><option value=\"Gistel\">Gistel</option><option value=\"Glabbeek\">Glabbeek</option><option value=\"Gooik\">Gooik</option><option value=\"Grimbergen\">Grimbergen</option><option value=\"Grobbendonk\">Grobbendonk</option><option value=\"Haacht\">Haacht</option><option value=\"Haaltert\">Haaltert</option><option value=\"Halen\">Halen</option><option value=\"Halle\">Halle</option><option value=\"Ham\">Ham</option><option value=\"Hamme\">Hamme</option><option value=\"Hamont-Achel\">Hamont-Achel</option><option value=\"Harelbeke\">Harelbeke</option><option value=\"Hasselt\">Hasselt</option><option value=\"Hechtel-Eksel\">Hechtel-Eksel</option><option value=\"Heers\">Heers</option><option value=\"Heist-op-den-Berg\">Heist-op-den-Berg</option><option value=\"Hemiksem\">Hemiksem</option><option value=\"Herent\">Herent</option><option value=\"Herentals\">Herentals</option><option value=\"Herenthout\">Herenthout</option><option value=\"Herk-de-Stad\">Herk-de-Stad</option><option value=\"Herne\">Herne</option><option value=\"Herselt\">Herselt</option><option value=\"Herstappe\">Herstappe</option><option value=\"Herzele\">Herzele</option><option value=\"Heusden-Zolder\">Heusden-Zolder</option><option value=\"Heuvelland\">Heuvelland</option><option value=\"Hoegaarden\">Hoegaarden</option><option value=\"Hoeilaart\">Hoeilaart</option><option value=\"Hoeselt\">Hoeselt</option><option value=\"Holsbeek\">Holsbeek</option><option value=\"Hooglede\">Hooglede</option><option value=\"Hoogstraten\">Hoogstraten</option><option value=\"Horebeke\">Horebeke</option><option value=\"Houthalen-Helchteren\">Houthalen-Helchteren</option><option value=\"Houthulst\">Houthulst</option><option value=\"Hove\">Hove</option><option value=\"Huldenberg\">Huldenberg</option><option value=\"Hulshout\">Hulshout</option><option value=\"Ichtegem\">Ichtegem</option><option value=\"Ieper\">Ieper</option><option value=\"Ingelmunster\">Ingelmunster</option><option value=\"Izegem\">Izegem</option><option value=\"Jabbeke\">Jabbeke</option><option value=\"Kalmthout\">Kalmthout</option><option value=\"Kampenhout\">Kampenhout</option><option value=\"Kapelle-op-den-Bos\">Kapelle-op-den-Bos</option><option value=\"Kapellen\">Kapellen</option><option value=\"Kaprijke\">Kaprijke</option><option value=\"Kasterlee\">Kasterlee</option><option value=\"Keerbergen\">Keerbergen</option><option value=\"Kinrooi\">Kinrooi</option><option value=\"Kluisbergen\">Kluisbergen</option><option value=\"Knesselare\">Knesselare</option><option value=\"Knokke-Heist\">Knokke-Heist</option><option value=\"Koekelare\">Koekelare</option><option value=\"Koksijde\">Koksijde</option><option value=\"Kontich\">Kontich</option><option value=\"Kortemark\">Kortemark</option><option value=\"Kortenaken\">Kortenaken</option><option value=\"Kortenberg\">Kortenberg</option><option value=\"Kortessem\">Kortessem</option><option value=\"Kortrijk\">Kortrijk</option><option value=\"Kraainem\">Kraainem</option><option value=\"Kruibeke\">Kruibeke</option><option value=\"Kruishoutem\">Kruishoutem</option><option value=\"Kuurne\">Kuurne</option><option value=\"Laakdal\">Laakdal</option><option value=\"Laarne\">Laarne</option><option value=\"Lanaken\">Lanaken</option><option value=\"Landen\">Landen</option><option value=\"Langemark-Poelkapelle\">Langemark-Poelkapelle</option><option value=\"Lebbeke\">Lebbeke</option><option value=\"Lede\">Lede</option><option value=\"Ledegem\">Ledegem</option><option value=\"Lendelede\">Lendelede</option><option value=\"Lennik\">Lennik</option><option value=\"Leopoldsburg\">Leopoldsburg</option><option value=\"Leuven\">Leuven</option><option value=\"Lichtervelde\">Lichtervelde</option><option value=\"Liedekerke\">Liedekerke</option><option value=\"Lier\">Lier</option><option value=\"Lierde\">Lierde</option><option value=\"Lille\">Lille</option><option value=\"Linkebeek\">Linkebeek</option><option value=\"Lint\">Lint</option><option value=\"Linter\">Linter</option><option value=\"Lo-Reninge\">Lo-Reninge</option><option value=\"Lochristi\">Lochristi</option><option value=\"Lokeren\">Lokeren</option><option value=\"Lommel\">Lommel</option><option value=\"Londerzeel\">Londerzeel</option><option value=\"Lovendegem\">Lovendegem</option><option value=\"Lubbeek\">Lubbeek</option><option value=\"Lummen\">Lummen</option><option value=\"Maarkedal\">Maarkedal</option><option value=\"Maaseik\">Maaseik</option><option value=\"Maasmechelen\">Maasmechelen</option><option value=\"Machelen\">Machelen</option><option value=\"Maldegem\">Maldegem</option><option value=\"Malle\">Malle</option><option value=\"Mechelen\">Mechelen</option><option value=\"Meerhout\">Meerhout</option><option value=\"Meeuwen-Gruitrode\">Meeuwen-Gruitrode</option><option value=\"Meise\">Meise</option><option value=\"Melle\">Melle</option><option value=\"Menen\">Menen</option><option value=\"Merchtem\">Merchtem</option><option value=\"Merelbeke\">Merelbeke</option><option value=\"Merksplas\">Merksplas</option><option value=\"Mesen\">Mesen</option><option value=\"Meulebeke\">Meulebeke</option><option value=\"Middelkerke\">Middelkerke</option><option value=\"Moerbeke\">Moerbeke</option><option value=\"Mol\">Mol</option><option value=\"Moorslede\">Moorslede</option><option value=\"Mortsel\">Mortsel</option><option value=\"Nazareth\">Nazareth</option><option value=\"Neerpelt\">Neerpelt</option><option value=\"Nevele\">Nevele</option><option value=\"Niel\">Niel</option><option value=\"Nieuwerkerken\">Nieuwerkerken</option><option value=\"Nieuwpoort\">Nieuwpoort</option><option value=\"Nijlen\">Nijlen</option><option value=\"Ninove\">Ninove</option><option value=\"Olen\">Olen</option><option value=\"Oostende\">Oostende</option><option value=\"Oosterzele\">Oosterzele</option><option value=\"Oostkamp\">Oostkamp</option><option value=\"Oostrozebeke\">Oostrozebeke</option><option value=\"Opglabbeek\">Opglabbeek</option><option value=\"Opwijk\">Opwijk</option><option value=\"Oud-Heverlee\">Oud-Heverlee</option><option value=\"Oud-Turnhout\">Oud-Turnhout</option><option value=\"Oudenaarde\">Oudenaarde</option><option value=\"Oudenburg\">Oudenburg</option><option value=\"Overijse\">Overijse</option><option value=\"Overpelt\">Overpelt</option><option value=\"Peer\">Peer</option><option value=\"Pepingen\">Pepingen</option><option value=\"Pittem\">Pittem</option><option value=\"Poperinge\">Poperinge</option><option value=\"Putte\">Putte</option><option value=\"Puurs\">Puurs</option><option value=\"Ranst\">Ranst</option><option value=\"Ravels\">Ravels</option><option value=\"Retie\">Retie</option><option value=\"Riemst\">Riemst</option><option value=\"Rijkevorsel\">Rijkevorsel</option><option value=\"Roeselare\">Roeselare</option><option value=\"Ronse\">Ronse</option><option value=\"Roosdaal\">Roosdaal</option><option value=\"Rotselaar\">Rotselaar</option><option value=\"Ruiselede\">Ruiselede</option><option value=\"Rumst\">Rumst</option><option value=\"Schelle\">Schelle</option><option value=\"Scherpenheuvel-Zichem\">Scherpenheuvel-Zichem</option><option value=\"Schilde\">Schilde</option><option value=\"Schoten\">Schoten</option><option value=\"Sint-Amands\">Sint-Amands</option><option value=\"Sint-Genesius-Rode\">Sint-Genesius-Rode</option><option value=\"Sint-Gillis-Waas\">Sint-Gillis-Waas</option><option value=\"Sint-Katelijne-Waver\">Sint-Katelijne-Waver</option><option value=\"Sint-Laureins\">Sint-Laureins</option><option value=\"Sint-Lievens-Houtem\">Sint-Lievens-Houtem</option><option value=\"Sint-Martens-Latem\">Sint-Martens-Latem</option><option value=\"Sint-Niklaas\">Sint-Niklaas</option><option value=\"Sint-Pieters-Leeuw\">Sint-Pieters-Leeuw</option><option value=\"Sint-Truiden\">Sint-Truiden</option><option value=\"Spiere-Helkijn\">Spiere-Helkijn</option><option value=\"Stabroek\">Stabroek</option><option value=\"Staden\">Staden</option><option value=\"Steenokkerzeel\">Steenokkerzeel</option><option value=\"Stekene\">Stekene</option><option value=\"Temse\">Temse</option><option value=\"Ternat\">Ternat</option><option value=\"Tervuren\">Tervuren</option><option value=\"Tessenderlo\">Tessenderlo</option><option value=\"Tielt\">Tielt</option><option value=\"Tielt-Winge\">Tielt-Winge</option><option value=\"Tienen\">Tienen</option><option value=\"Tongeren\">Tongeren</option><option value=\"Torhout\">Torhout</option><option value=\"Tremelo\">Tremelo</option><option value=\"Turnhout\">Turnhout</option><option value=\"Veurne\">Veurne</option><option value=\"Vilvoorde\">Vilvoorde</option><option value=\"Vleteren\">Vleteren</option><option value=\"Voeren\">Voeren</option><option value=\"Vorselaar\">Vorselaar</option><option value=\"Vosselaar\">Vosselaar</option><option value=\"Waarschoot\">Waarschoot</option><option value=\"Waasmunster\">Waasmunster</option><option value=\"Wachtebeke\">Wachtebeke</option><option value=\"Waregem\">Waregem</option><option value=\"Wellen\">Wellen</option><option value=\"Wemmel\">Wemmel</option><option value=\"Wervik\">Wervik</option><option value=\"Westerlo\">Westerlo</option><option value=\"Wetteren\">Wetteren</option><option value=\"Wevelgem\">Wevelgem</option><option value=\"Wezembeek-Oppem\">Wezembeek-Oppem</option><option value=\"Wichelen\">Wichelen</option><option value=\"Wielsbeke\">Wielsbeke</option><option value=\"Wijnegem\">Wijnegem</option><option value=\"Willebroek\">Willebroek</option><option value=\"Wingene\">Wingene</option><option value=\"Wommelgem\">Wommelgem</option><option value=\"Wortegem-Petegem\">Wortegem-Petegem</option><option value=\"Wuustwezel\">Wuustwezel</option><option value=\"Zandhoven\">Zandhoven</option><option value=\"Zedelgem\">Zedelgem</option><option value=\"Zele\">Zele</option><option value=\"Zelzate\">Zelzate</option><option value=\"Zemst\">Zemst</option><option value=\"Zingem\">Zingem</option><option value=\"Zoersel\">Zoersel</option><option value=\"Zomergem\">Zomergem</option><option value=\"Zonhoven\">Zonhoven</option><option value=\"Zonnebeke\">Zonnebeke</option><option value=\"Zottegem\">Zottegem</option><option value=\"Zoutleeuw\">Zoutleeuw</option><option value=\"Zuienkerke\">Zuienkerke</option><option value=\"Zulte\">Zulte</option><option value=\"Zutendaal\">Zutendaal</option><option value=\"Zwalm\">Zwalm</option><option value=\"Zwevegem\">Zwevegem</option><option value=\"Zwijndrecht\">Zwijndrecht</option><option value=\"de Haan\">de Haan</option><option value=\"de Panne\">de Panne</option><option value=\"de Pinte\">de Pinte</option></select></div>\n",
       "<script type=\"text/Javascript\">\n",
       "    function set_munivars(){\n",
       "        var var_name1 = 'inp_muni';\n",
       "        var var_value1 = document.getElementById('muni').value;\n",
       "        var command1 = var_name1 + \" = '\" + var_value1 + \"'\";\n",
       "        var kernel = IPython.notebook.kernel;\n",
       "        kernel.execute(command1);\n",
       "        cell = IPython.notebook.get_cell(7);\n",
       "        cell.execute();\n",
       "        cell = IPython.notebook.get_cell(8);\n",
       "        cell.execute();\n",
       "        cell.focus_cell(8);\n",
       "    }\n",
       "</script>\n"
      ],
      "text/plain": [
       "<IPython.core.display.HTML object>"
      ]
     },
     "execution_count": 42,
     "metadata": {},
     "output_type": "execute_result"
    }
   ],
   "source": [
    "#Inputting default value for initial run\n",
    "inp_muni = \"Avelgem\"\n",
    "\n",
    "#Input form in jupyter notebook\n",
    "form = \"<div style='background-color:gainsboro; border:solid black; width:300px; padding:20px;'>Selecteer gemeente:\"\n",
    "form += '<select onchange=\"set_munivars()\" id=\"muni\">'\n",
    "for e in lijst_gemeentes:\n",
    "    form += '<option value=\"' + e.Gemeente + '\">' + e.Gemeente + '</option>'\n",
    "form += '</select></div>'\n",
    "#form = \"\"\"\n",
    "#\n",
    "#Gemeente: <input type=\"text\" id='muni' value=\"Avelgem\"/><br>\n",
    "# <button onclick=\"set_munivars()\">Zoek</button> \n",
    "#</div>\n",
    "#\"\"\"\n",
    "#Called function from button onclick\n",
    "javascript = \"\"\"\n",
    "<script type=\"text/Javascript\">\n",
    "    function set_munivars(){\n",
    "        var var_name1 = 'inp_muni';\n",
    "        var var_value1 = document.getElementById('muni').value;\n",
    "        var command1 = var_name1 + \" = '\" + var_value1 + \"'\";\n",
    "        var kernel = IPython.notebook.kernel;\n",
    "        kernel.execute(command1);\n",
    "        cell = IPython.notebook.get_cell(7);\n",
    "        cell.execute();\n",
    "        cell = IPython.notebook.get_cell(8);\n",
    "        cell.execute();\n",
    "        cell.focus_cell(8);\n",
    "    }\n",
    "</script>\n",
    "\"\"\"\n",
    "#Rendering the html\n",
    "HTML(form + javascript)"
   ]
  },
  {
   "cell_type": "code",
   "execution_count": 68,
   "metadata": {
    "scrolled": false
   },
   "outputs": [
    {
     "name": "stdout",
     "output_type": "stream",
     "text": [
      "+--------+-----+-------------+-------+----+-----+----+----+\n",
      "|Gemeente|Groen|Vlaams_Belang|OpenVld|sp_a| N_VA|CD_V|PVDA|\n",
      "+--------+-----+-------------+-------+----+-----+----+----+\n",
      "|   Aalst| 3692|         4300|   8365|6538|20279|7884| 932|\n",
      "+--------+-----+-------------+-------+----+-----+----+----+\n",
      "\n"
     ]
    }
   ],
   "source": [
    "#HTML Search is executed here. PLEASE DO NOT ADD CELLS BEFORE THIS ONE. CRACKY CODE!!\n",
    "#Call search function for municipality\n",
    "df = get_results_municipality(inp_muni)\n",
    "df.show()"
   ]
  },
  {
   "cell_type": "code",
   "execution_count": 69,
   "metadata": {},
   "outputs": [
    {
     "data": {
      "image/png": "[encoded data removed]",
      "text/plain": [
       "<matplotlib.figure.Figure at 0x2440dd86470>"
      ]
     },
     "metadata": {},
     "output_type": "display_data"
    }
   ],
   "source": [
    "#Giving the x axis the range of the parties & initiating the y_axis valuelist\n",
    "x_axis = [i+1 for i in range(0,7)]\n",
    "y_axis=[]\n",
    "\n",
    "#df -> RDD -> list of values\n",
    "vals=df.rdd.flatMap(lambda x: x).collect()\n",
    "#Get municipality name out of here\n",
    "del(vals[0])\n",
    "\n",
    "#Vals are interpreted as strings, let's make them ints\n",
    "for i in vals:\n",
    "    y_axis.append(int(i))\n",
    "#Make the figure\n",
    "fig1 = plt.figure(figsize=(10, 10))\n",
    "fig1.suptitle('Resultaten voor ' + inp_muni, fontsize=42)\n",
    "#Add the plot\n",
    "ax = fig1.add_subplot(111)\n",
    "ax.set_xlabel('Partijen', fontsize = 32)\n",
    "ax.set_ylabel('Aantal stemmen', fontsize = 32)\n",
    "#Actually plot\n",
    "ax.bar(x_axis, y_axis, align='center', color=['green', 'yellow', 'blue', 'red', 'yellow', 'orange', 'red'])\n",
    "#Set the x axis tick labels\n",
    "plt.xticks(x_axis, [\"Groen\",\"Vlaams Belang\",\"OpenVld\",\"sp.a\",\"N-VA\",\"CD&V\",\"PVDA+\"],fontsize = 12)\n",
    "#Enlarge them letters\n",
    "plt.yticks(fontsize = 20)\n",
    "plt.show()"
   ]
  },
  {
   "cell_type": "code",
   "execution_count": 11,
   "metadata": {},
   "outputs": [
    {
     "name": "stdout",
     "output_type": "stream",
     "text": [
      "+---------+-----------------+-----------------+-----------+------------+\n",
      "|CD_REFNIS|TX_MUNTY_DESCR_FR|TX_MUNTY_DESCR_NL|TX_FST_NAME|MS_FREQUENCY|\n",
      "+---------+-----------------+-----------------+-----------+------------+\n",
      "|    11001|       Aartselaar|       Aartselaar|       Marc|         135|\n",
      "|    11001|       Aartselaar|       Aartselaar|        Jan|         125|\n",
      "|    11001|       Aartselaar|       Aartselaar|        Luc|         111|\n",
      "|    11001|       Aartselaar|       Aartselaar|       Paul|         105|\n",
      "|    11001|       Aartselaar|       Aartselaar|       Dirk|          99|\n",
      "|    11001|       Aartselaar|       Aartselaar|      Peter|          90|\n",
      "|    11001|       Aartselaar|       Aartselaar|    Patrick|          85|\n",
      "|    11001|       Aartselaar|       Aartselaar|      Jozef|          84|\n",
      "|    11001|       Aartselaar|       Aartselaar|      Willy|          77|\n",
      "|    11001|       Aartselaar|       Aartselaar|       Bart|          73|\n",
      "|    11001|       Aartselaar|       Aartselaar|     Walter|          68|\n",
      "|    11001|       Aartselaar|       Aartselaar|   François|          65|\n",
      "|    11001|       Aartselaar|       Aartselaar|        Tom|          61|\n",
      "|    11001|       Aartselaar|       Aartselaar|      Frank|          60|\n",
      "|    11001|       Aartselaar|       Aartselaar|       Jean|          57|\n",
      "|    11001|       Aartselaar|       Aartselaar|     Marcel|          56|\n",
      "|    11001|       Aartselaar|       Aartselaar|       Eric|          55|\n",
      "|    11001|       Aartselaar|       Aartselaar|      Guido|          54|\n",
      "|    11001|       Aartselaar|       Aartselaar|     Robert|          54|\n",
      "|    11001|       Aartselaar|       Aartselaar|      Johan|          53|\n",
      "+---------+-----------------+-----------------+-----------+------------+\n",
      "only showing top 20 rows\n",
      "\n"
     ]
    }
   ],
   "source": [
    "#Getting data from textfile into list, make sure to have the right location for the text file\n",
    "name_data = (sc.textFile('../data/verkiezingen/TA_POP_2017.txt')).collect()\n",
    "\n",
    "#get schema from first line\n",
    "schema = name_data[0].split('|')\n",
    "\n",
    "#Get structure line out of file\n",
    "del(name_data[0])\n",
    "\n",
    "#make some beautiful rows\n",
    "rowlist = []\n",
    "for line in name_data:\n",
    "        row = line.split(\"|\")\n",
    "        rowlist.append(row)\n",
    "\n",
    "#create the frame\n",
    "name_df = sqlContext.createDataFrame(rowlist, schema)\n",
    "name_df.show()"
   ]
  },
  {
   "cell_type": "code",
   "execution_count": 45,
   "metadata": {},
   "outputs": [],
   "source": [
    "#function for correlation between name and party\n",
    "def get_munname_df(partyname, firstname):\n",
    "    #Make temporary dataframe to store joined data from election_df and name_df\n",
    "    temp_df = election_df.select(\"Gemeente\", partyname).join(name_df.select(\"TX_MUNTY_DESCR_NL\",\"TX_FST_NAME\",\"MS_FREQUENCY\"),election_df.Gemeente == name_df.TX_MUNTY_DESCR_NL)\n",
    "    \n",
    "    #SQL Query to get the dataframe for firstname\n",
    "    temp_df.createOrReplaceTempView(\"tempview\")\n",
    "    query = \"SELECT Gemeente,\" + partyname + \",TX_FST_NAME,MS_FREQUENCY FROM tempview WHERE TX_FST_NAME = '\" + firstname + \"'\"\n",
    "    result_df = sqlContext.sql(query)\n",
    "    \n",
    "    return result_df"
   ]
  },
  {
   "cell_type": "code",
   "execution_count": 13,
   "metadata": {},
   "outputs": [],
   "source": [
    "#Function to find the correlation between votes for a party and a first name\n",
    "def get_corr_value(munname_df):\n",
    "    #Casting columns to ints, were strings previously\n",
    "    munname_df = munname_df.withColumn(inp_party, munname_df[inp_party].cast(IntegerType()))\n",
    "    munname_df = munname_df.withColumn(\"MS_FREQUENCY\", munname_df[\"MS_FREQUENCY\"].cast(IntegerType()))\n",
    "\n",
    "    #Calling a pyspark native function to calculate the correlation\n",
    "    corr_value = munname_df.stat.corr(inp_party, 'MS_FREQUENCY')\n",
    "    return corr_value"
   ]
  },
  {
   "cell_type": "code",
   "execution_count": 70,
   "metadata": {},
   "outputs": [
    {
     "data": {
      "text/html": [
       "<div style='background-color:gainsboro; border:solid black; width:300px; padding:20px;'>Selecteer partij:<select id=\"party\"><option value=\"Groen\">Groen</option><option value=\"Vlaams_Belang\">Vlaams_Belang</option><option value=\"OpenVld\">OpenVld</option><option value=\"sp_a\">sp_a</option><option value=\"N_VA\">N_VA</option><option value=\"CD_V\">CD_V</option><option value=\"PVDA\">PVDA</option></select>naam:<input type=\"text\" id=\"name\" value=\"Jan\"/><br><button onclick=\"set_munparvars()\">Zoek</button> </div>\n",
       "<script type=\"text/Javascript\">\n",
       "    function set_munparvars(){\n",
       "        var var_name1 = 'inp_party';\n",
       "        var var_value1 = document.getElementById('party').value;\n",
       "        var var_name2 = 'inp_name';\n",
       "        var var_value2 = document.getElementById('name').value;\n",
       "        var command1 = var_name1 + \" = '\" + var_value1 + \"'\";\n",
       "        var command2 = var_name2 + \" = '\" + var_value2 + \"'\";\n",
       "        var kernel = IPython.notebook.kernel;\n",
       "        kernel.execute(command1);\n",
       "        kernel.execute(command2);\n",
       "        cell = IPython.notebook.get_cell(13);\n",
       "        cell.execute();\n",
       "        cell.focus_cell(13);\n",
       "    }\n",
       "</script>\n"
      ],
      "text/plain": [
       "<IPython.core.display.HTML object>"
      ]
     },
     "execution_count": 70,
     "metadata": {},
     "output_type": "execute_result"
    }
   ],
   "source": [
    "#Inputting default value for initial run\n",
    "inp_party = \"Groen\"\n",
    "inp_name = \"Jan\"\n",
    "partijen = [\"Groen\",\"Vlaams_Belang\",\"OpenVld\",\"sp_a\",\"N_VA\",\"CD_V\",\"PVDA\"]\n",
    "\n",
    "#Input form in jupyter notebook\n",
    "form = \"<div style='background-color:gainsboro; border:solid black; width:300px; padding:20px;'>Selecteer partij:\"\n",
    "form += '<select id=\"party\">'\n",
    "for e in partijen:\n",
    "    form += '<option value=\"' + e + '\">' + e + '</option>'\n",
    "form += '</select>naam:<input type=\"text\" id=\"name\" value=\"Jan\"/><br><button onclick=\"set_munparvars()\">Zoek</button> </div>'\n",
    "form2 = \"\"\"\n",
    "\n",
    "<div style='background-color:gainsboro; border:solid black; width:300px; padding:20px;'>\n",
    "Partij: <input type=\"text\" id='party' value=\"Groen\"/><br>\n",
    "Naam: <input type=\"text\" id='name' value=\"Jan\"/><br>\n",
    " <button onclick=\"set_munparvars()\">Zoek</button> \n",
    "</div>\n",
    "\"\"\"\n",
    "#Called function from button onclick\n",
    "javascript = \"\"\"\n",
    "<script type=\"text/Javascript\">\n",
    "    function set_munparvars(){\n",
    "        var var_name1 = 'inp_party';\n",
    "        var var_value1 = document.getElementById('party').value;\n",
    "        var var_name2 = 'inp_name';\n",
    "        var var_value2 = document.getElementById('name').value;\n",
    "        var command1 = var_name1 + \" = '\" + var_value1 + \"'\";\n",
    "        var command2 = var_name2 + \" = '\" + var_value2 + \"'\";\n",
    "        var kernel = IPython.notebook.kernel;\n",
    "        kernel.execute(command1);\n",
    "        kernel.execute(command2);\n",
    "        cell = IPython.notebook.get_cell(13);\n",
    "        cell.execute();\n",
    "        cell.focus_cell(13);\n",
    "    }\n",
    "</script>\n",
    "\"\"\"\n",
    "#Rendering the html\n",
    "HTML(form + javascript)"
   ]
  },
  {
   "cell_type": "code",
   "execution_count": 71,
   "metadata": {},
   "outputs": [
    {
     "ename": "Py4JJavaError",
     "evalue": "An error occurred while calling o610.showString.\n: org.apache.spark.SparkException: Job aborted due to stage failure: Task 2 in stage 70.0 failed 1 times, most recent failure: Lost task 2.0 in stage 70.0 (TID 324, localhost, executor driver): java.io.FileNotFoundException: C:\\Users\\FFLP\\AppData\\Local\\Temp\\blockmgr-0ccd6243-1185-4c47-9ff5-ac864fa7ab68\\07\\temp_shuffle_a64438dc-09df-4924-80a8-d3835b33ea63 (The system cannot find the path specified)\r\n\tat java.io.FileOutputStream.open0(Native Method)\r\n\tat java.io.FileOutputStream.open(FileOutputStream.java:270)\r\n\tat java.io.FileOutputStream.<init>(FileOutputStream.java:213)\r\n\tat org.apache.spark.storage.DiskBlockObjectWriter.initialize(DiskBlockObjectWriter.scala:103)\r\n\tat org.apache.spark.storage.DiskBlockObjectWriter.open(DiskBlockObjectWriter.scala:116)\r\n\tat org.apache.spark.storage.DiskBlockObjectWriter.write(DiskBlockObjectWriter.scala:237)\r\n\tat org.apache.spark.shuffle.sort.BypassMergeSortShuffleWriter.write(BypassMergeSortShuffleWriter.java:151)\r\n\tat org.apache.spark.scheduler.ShuffleMapTask.runTask(ShuffleMapTask.scala:96)\r\n\tat org.apache.spark.scheduler.ShuffleMapTask.runTask(ShuffleMapTask.scala:53)\r\n\tat org.apache.spark.scheduler.Task.run(Task.scala:109)\r\n\tat org.apache.spark.executor.Executor$TaskRunner.run(Executor.scala:345)\r\n\tat java.util.concurrent.ThreadPoolExecutor.runWorker(ThreadPoolExecutor.java:1149)\r\n\tat java.util.concurrent.ThreadPoolExecutor$Worker.run(ThreadPoolExecutor.java:624)\r\n\tat java.lang.Thread.run(Thread.java:748)\r\n\nDriver stacktrace:\r\n\tat org.apache.spark.scheduler.DAGScheduler.org$apache$spark$scheduler$DAGScheduler$$failJobAndIndependentStages(DAGScheduler.scala:1602)\r\n\tat org.apache.spark.scheduler.DAGScheduler$$anonfun$abortStage$1.apply(DAGScheduler.scala:1590)\r\n\tat org.apache.spark.scheduler.DAGScheduler$$anonfun$abortStage$1.apply(DAGScheduler.scala:1589)\r\n\tat scala.collection.mutable.ResizableArray$class.foreach(ResizableArray.scala:59)\r\n\tat scala.collection.mutable.ArrayBuffer.foreach(ArrayBuffer.scala:48)\r\n\tat org.apache.spark.scheduler.DAGScheduler.abortStage(DAGScheduler.scala:1589)\r\n\tat org.apache.spark.scheduler.DAGScheduler$$anonfun$handleTaskSetFailed$1.apply(DAGScheduler.scala:831)\r\n\tat org.apache.spark.scheduler.DAGScheduler$$anonfun$handleTaskSetFailed$1.apply(DAGScheduler.scala:831)\r\n\tat scala.Option.foreach(Option.scala:257)\r\n\tat org.apache.spark.scheduler.DAGScheduler.handleTaskSetFailed(DAGScheduler.scala:831)\r\n\tat org.apache.spark.scheduler.DAGSchedulerEventProcessLoop.doOnReceive(DAGScheduler.scala:1823)\r\n\tat org.apache.spark.scheduler.DAGSchedulerEventProcessLoop.onReceive(DAGScheduler.scala:1772)\r\n\tat org.apache.spark.scheduler.DAGSchedulerEventProcessLoop.onReceive(DAGScheduler.scala:1761)\r\n\tat org.apache.spark.util.EventLoop$$anon$1.run(EventLoop.scala:48)\r\n\tat org.apache.spark.scheduler.DAGScheduler.runJob(DAGScheduler.scala:642)\r\n\tat org.apache.spark.SparkContext.runJob(SparkContext.scala:2034)\r\n\tat org.apache.spark.SparkContext.runJob(SparkContext.scala:2055)\r\n\tat org.apache.spark.SparkContext.runJob(SparkContext.scala:2074)\r\n\tat org.apache.spark.sql.execution.SparkPlan.executeTake(SparkPlan.scala:363)\r\n\tat org.apache.spark.sql.execution.CollectLimitExec.executeCollect(limit.scala:38)\r\n\tat org.apache.spark.sql.Dataset.org$apache$spark$sql$Dataset$$collectFromPlan(Dataset.scala:3273)\r\n\tat org.apache.spark.sql.Dataset$$anonfun$head$1.apply(Dataset.scala:2484)\r\n\tat org.apache.spark.sql.Dataset$$anonfun$head$1.apply(Dataset.scala:2484)\r\n\tat org.apache.spark.sql.Dataset$$anonfun$52.apply(Dataset.scala:3254)\r\n\tat org.apache.spark.sql.execution.SQLExecution$.withNewExecutionId(SQLExecution.scala:77)\r\n\tat org.apache.spark.sql.Dataset.withAction(Dataset.scala:3253)\r\n\tat org.apache.spark.sql.Dataset.head(Dataset.scala:2484)\r\n\tat org.apache.spark.sql.Dataset.take(Dataset.scala:2698)\r\n\tat org.apache.spark.sql.Dataset.showString(Dataset.scala:254)\r\n\tat sun.reflect.NativeMethodAccessorImpl.invoke0(Native Method)\r\n\tat sun.reflect.NativeMethodAccessorImpl.invoke(NativeMethodAccessorImpl.java:62)\r\n\tat sun.reflect.DelegatingMethodAccessorImpl.invoke(DelegatingMethodAccessorImpl.java:43)\r\n\tat java.lang.reflect.Method.invoke(Method.java:498)\r\n\tat py4j.reflection.MethodInvoker.invoke(MethodInvoker.java:244)\r\n\tat py4j.reflection.ReflectionEngine.invoke(ReflectionEngine.java:357)\r\n\tat py4j.Gateway.invoke(Gateway.java:282)\r\n\tat py4j.commands.AbstractCommand.invokeMethod(AbstractCommand.java:132)\r\n\tat py4j.commands.CallCommand.execute(CallCommand.java:79)\r\n\tat py4j.GatewayConnection.run(GatewayConnection.java:238)\r\n\tat java.lang.Thread.run(Thread.java:748)\r\nCaused by: java.io.FileNotFoundException: C:\\Users\\FFLP\\AppData\\Local\\Temp\\blockmgr-0ccd6243-1185-4c47-9ff5-ac864fa7ab68\\07\\temp_shuffle_a64438dc-09df-4924-80a8-d3835b33ea63 (The system cannot find the path specified)\r\n\tat java.io.FileOutputStream.open0(Native Method)\r\n\tat java.io.FileOutputStream.open(FileOutputStream.java:270)\r\n\tat java.io.FileOutputStream.<init>(FileOutputStream.java:213)\r\n\tat org.apache.spark.storage.DiskBlockObjectWriter.initialize(DiskBlockObjectWriter.scala:103)\r\n\tat org.apache.spark.storage.DiskBlockObjectWriter.open(DiskBlockObjectWriter.scala:116)\r\n\tat org.apache.spark.storage.DiskBlockObjectWriter.write(DiskBlockObjectWriter.scala:237)\r\n\tat org.apache.spark.shuffle.sort.BypassMergeSortShuffleWriter.write(BypassMergeSortShuffleWriter.java:151)\r\n\tat org.apache.spark.scheduler.ShuffleMapTask.runTask(ShuffleMapTask.scala:96)\r\n\tat org.apache.spark.scheduler.ShuffleMapTask.runTask(ShuffleMapTask.scala:53)\r\n\tat org.apache.spark.scheduler.Task.run(Task.scala:109)\r\n\tat org.apache.spark.executor.Executor$TaskRunner.run(Executor.scala:345)\r\n\tat java.util.concurrent.ThreadPoolExecutor.runWorker(ThreadPoolExecutor.java:1149)\r\n\tat java.util.concurrent.ThreadPoolExecutor$Worker.run(ThreadPoolExecutor.java:624)\r\n\t... 1 more\r\n",
     "output_type": "error",
     "traceback": [
      "\u001b[1;31m---------------------------------------------------------------------------\u001b[0m",
      "\u001b[1;31mPy4JJavaError\u001b[0m                             Traceback (most recent call last)",
      "\u001b[1;32m<ipython-input-71-fa347bb845c5>\u001b[0m in \u001b[0;36m<module>\u001b[1;34m()\u001b[0m\n\u001b[0;32m      1\u001b[0m \u001b[0mmunname_df\u001b[0m \u001b[1;33m=\u001b[0m \u001b[0mget_munname_df\u001b[0m\u001b[1;33m(\u001b[0m\u001b[0minp_party\u001b[0m\u001b[1;33m,\u001b[0m \u001b[0minp_name\u001b[0m\u001b[1;33m)\u001b[0m\u001b[1;33m\u001b[0m\u001b[0m\n\u001b[1;32m----> 2\u001b[1;33m \u001b[0mmunname_df\u001b[0m\u001b[1;33m.\u001b[0m\u001b[0mshow\u001b[0m\u001b[1;33m(\u001b[0m\u001b[1;33m)\u001b[0m\u001b[1;33m\u001b[0m\u001b[0m\n\u001b[0m\u001b[0;32m      3\u001b[0m \u001b[0mcorr_value\u001b[0m \u001b[1;33m=\u001b[0m \u001b[0mget_corr_value\u001b[0m\u001b[1;33m(\u001b[0m\u001b[0mmunname_df\u001b[0m\u001b[1;33m)\u001b[0m\u001b[1;33m\u001b[0m\u001b[0m\n\u001b[0;32m      4\u001b[0m \u001b[0mprint\u001b[0m\u001b[1;33m(\u001b[0m\u001b[0mcorr_value\u001b[0m\u001b[1;33m)\u001b[0m\u001b[1;33m\u001b[0m\u001b[0m\n",
      "\u001b[1;32mC:\\Spark\\spark-2.3.1-bin-hadoop2.7\\python\\pyspark\\sql\\dataframe.py\u001b[0m in \u001b[0;36mshow\u001b[1;34m(self, n, truncate, vertical)\u001b[0m\n\u001b[0;32m    348\u001b[0m         \"\"\"\n\u001b[0;32m    349\u001b[0m         \u001b[1;32mif\u001b[0m \u001b[0misinstance\u001b[0m\u001b[1;33m(\u001b[0m\u001b[0mtruncate\u001b[0m\u001b[1;33m,\u001b[0m \u001b[0mbool\u001b[0m\u001b[1;33m)\u001b[0m \u001b[1;32mand\u001b[0m \u001b[0mtruncate\u001b[0m\u001b[1;33m:\u001b[0m\u001b[1;33m\u001b[0m\u001b[0m\n\u001b[1;32m--> 350\u001b[1;33m             \u001b[0mprint\u001b[0m\u001b[1;33m(\u001b[0m\u001b[0mself\u001b[0m\u001b[1;33m.\u001b[0m\u001b[0m_jdf\u001b[0m\u001b[1;33m.\u001b[0m\u001b[0mshowString\u001b[0m\u001b[1;33m(\u001b[0m\u001b[0mn\u001b[0m\u001b[1;33m,\u001b[0m \u001b[1;36m20\u001b[0m\u001b[1;33m,\u001b[0m \u001b[0mvertical\u001b[0m\u001b[1;33m)\u001b[0m\u001b[1;33m)\u001b[0m\u001b[1;33m\u001b[0m\u001b[0m\n\u001b[0m\u001b[0;32m    351\u001b[0m         \u001b[1;32melse\u001b[0m\u001b[1;33m:\u001b[0m\u001b[1;33m\u001b[0m\u001b[0m\n\u001b[0;32m    352\u001b[0m             \u001b[0mprint\u001b[0m\u001b[1;33m(\u001b[0m\u001b[0mself\u001b[0m\u001b[1;33m.\u001b[0m\u001b[0m_jdf\u001b[0m\u001b[1;33m.\u001b[0m\u001b[0mshowString\u001b[0m\u001b[1;33m(\u001b[0m\u001b[0mn\u001b[0m\u001b[1;33m,\u001b[0m \u001b[0mint\u001b[0m\u001b[1;33m(\u001b[0m\u001b[0mtruncate\u001b[0m\u001b[1;33m)\u001b[0m\u001b[1;33m,\u001b[0m \u001b[0mvertical\u001b[0m\u001b[1;33m)\u001b[0m\u001b[1;33m)\u001b[0m\u001b[1;33m\u001b[0m\u001b[0m\n",
      "\u001b[1;32mC:\\Spark\\spark-2.3.1-bin-hadoop2.7\\python\\lib\\py4j-0.10.7-src.zip\\py4j\\java_gateway.py\u001b[0m in \u001b[0;36m__call__\u001b[1;34m(self, *args)\u001b[0m\n\u001b[0;32m   1255\u001b[0m         \u001b[0manswer\u001b[0m \u001b[1;33m=\u001b[0m \u001b[0mself\u001b[0m\u001b[1;33m.\u001b[0m\u001b[0mgateway_client\u001b[0m\u001b[1;33m.\u001b[0m\u001b[0msend_command\u001b[0m\u001b[1;33m(\u001b[0m\u001b[0mcommand\u001b[0m\u001b[1;33m)\u001b[0m\u001b[1;33m\u001b[0m\u001b[0m\n\u001b[0;32m   1256\u001b[0m         return_value = get_return_value(\n\u001b[1;32m-> 1257\u001b[1;33m             answer, self.gateway_client, self.target_id, self.name)\n\u001b[0m\u001b[0;32m   1258\u001b[0m \u001b[1;33m\u001b[0m\u001b[0m\n\u001b[0;32m   1259\u001b[0m         \u001b[1;32mfor\u001b[0m \u001b[0mtemp_arg\u001b[0m \u001b[1;32min\u001b[0m \u001b[0mtemp_args\u001b[0m\u001b[1;33m:\u001b[0m\u001b[1;33m\u001b[0m\u001b[0m\n",
      "\u001b[1;32mC:\\Spark\\spark-2.3.1-bin-hadoop2.7\\python\\pyspark\\sql\\utils.py\u001b[0m in \u001b[0;36mdeco\u001b[1;34m(*a, **kw)\u001b[0m\n\u001b[0;32m     61\u001b[0m     \u001b[1;32mdef\u001b[0m \u001b[0mdeco\u001b[0m\u001b[1;33m(\u001b[0m\u001b[1;33m*\u001b[0m\u001b[0ma\u001b[0m\u001b[1;33m,\u001b[0m \u001b[1;33m**\u001b[0m\u001b[0mkw\u001b[0m\u001b[1;33m)\u001b[0m\u001b[1;33m:\u001b[0m\u001b[1;33m\u001b[0m\u001b[0m\n\u001b[0;32m     62\u001b[0m         \u001b[1;32mtry\u001b[0m\u001b[1;33m:\u001b[0m\u001b[1;33m\u001b[0m\u001b[0m\n\u001b[1;32m---> 63\u001b[1;33m             \u001b[1;32mreturn\u001b[0m \u001b[0mf\u001b[0m\u001b[1;33m(\u001b[0m\u001b[1;33m*\u001b[0m\u001b[0ma\u001b[0m\u001b[1;33m,\u001b[0m \u001b[1;33m**\u001b[0m\u001b[0mkw\u001b[0m\u001b[1;33m)\u001b[0m\u001b[1;33m\u001b[0m\u001b[0m\n\u001b[0m\u001b[0;32m     64\u001b[0m         \u001b[1;32mexcept\u001b[0m \u001b[0mpy4j\u001b[0m\u001b[1;33m.\u001b[0m\u001b[0mprotocol\u001b[0m\u001b[1;33m.\u001b[0m\u001b[0mPy4JJavaError\u001b[0m \u001b[1;32mas\u001b[0m \u001b[0me\u001b[0m\u001b[1;33m:\u001b[0m\u001b[1;33m\u001b[0m\u001b[0m\n\u001b[0;32m     65\u001b[0m             \u001b[0ms\u001b[0m \u001b[1;33m=\u001b[0m \u001b[0me\u001b[0m\u001b[1;33m.\u001b[0m\u001b[0mjava_exception\u001b[0m\u001b[1;33m.\u001b[0m\u001b[0mtoString\u001b[0m\u001b[1;33m(\u001b[0m\u001b[1;33m)\u001b[0m\u001b[1;33m\u001b[0m\u001b[0m\n",
      "\u001b[1;32mC:\\Spark\\spark-2.3.1-bin-hadoop2.7\\python\\lib\\py4j-0.10.7-src.zip\\py4j\\protocol.py\u001b[0m in \u001b[0;36mget_return_value\u001b[1;34m(answer, gateway_client, target_id, name)\u001b[0m\n\u001b[0;32m    326\u001b[0m                 raise Py4JJavaError(\n\u001b[0;32m    327\u001b[0m                     \u001b[1;34m\"An error occurred while calling {0}{1}{2}.\\n\"\u001b[0m\u001b[1;33m.\u001b[0m\u001b[1;33m\u001b[0m\u001b[0m\n\u001b[1;32m--> 328\u001b[1;33m                     format(target_id, \".\", name), value)\n\u001b[0m\u001b[0;32m    329\u001b[0m             \u001b[1;32melse\u001b[0m\u001b[1;33m:\u001b[0m\u001b[1;33m\u001b[0m\u001b[0m\n\u001b[0;32m    330\u001b[0m                 raise Py4JError(\n",
      "\u001b[1;31mPy4JJavaError\u001b[0m: An error occurred while calling o610.showString.\n: org.apache.spark.SparkException: Job aborted due to stage failure: Task 2 in stage 70.0 failed 1 times, most recent failure: Lost task 2.0 in stage 70.0 (TID 324, localhost, executor driver): java.io.FileNotFoundException: C:\\Users\\FFLP\\AppData\\Local\\Temp\\blockmgr-0ccd6243-1185-4c47-9ff5-ac864fa7ab68\\07\\temp_shuffle_a64438dc-09df-4924-80a8-d3835b33ea63 (The system cannot find the path specified)\r\n\tat java.io.FileOutputStream.open0(Native Method)\r\n\tat java.io.FileOutputStream.open(FileOutputStream.java:270)\r\n\tat java.io.FileOutputStream.<init>(FileOutputStream.java:213)\r\n\tat org.apache.spark.storage.DiskBlockObjectWriter.initialize(DiskBlockObjectWriter.scala:103)\r\n\tat org.apache.spark.storage.DiskBlockObjectWriter.open(DiskBlockObjectWriter.scala:116)\r\n\tat org.apache.spark.storage.DiskBlockObjectWriter.write(DiskBlockObjectWriter.scala:237)\r\n\tat org.apache.spark.shuffle.sort.BypassMergeSortShuffleWriter.write(BypassMergeSortShuffleWriter.java:151)\r\n\tat org.apache.spark.scheduler.ShuffleMapTask.runTask(ShuffleMapTask.scala:96)\r\n\tat org.apache.spark.scheduler.ShuffleMapTask.runTask(ShuffleMapTask.scala:53)\r\n\tat org.apache.spark.scheduler.Task.run(Task.scala:109)\r\n\tat org.apache.spark.executor.Executor$TaskRunner.run(Executor.scala:345)\r\n\tat java.util.concurrent.ThreadPoolExecutor.runWorker(ThreadPoolExecutor.java:1149)\r\n\tat java.util.concurrent.ThreadPoolExecutor$Worker.run(ThreadPoolExecutor.java:624)\r\n\tat java.lang.Thread.run(Thread.java:748)\r\n\nDriver stacktrace:\r\n\tat org.apache.spark.scheduler.DAGScheduler.org$apache$spark$scheduler$DAGScheduler$$failJobAndIndependentStages(DAGScheduler.scala:1602)\r\n\tat org.apache.spark.scheduler.DAGScheduler$$anonfun$abortStage$1.apply(DAGScheduler.scala:1590)\r\n\tat org.apache.spark.scheduler.DAGScheduler$$anonfun$abortStage$1.apply(DAGScheduler.scala:1589)\r\n\tat scala.collection.mutable.ResizableArray$class.foreach(ResizableArray.scala:59)\r\n\tat scala.collection.mutable.ArrayBuffer.foreach(ArrayBuffer.scala:48)\r\n\tat org.apache.spark.scheduler.DAGScheduler.abortStage(DAGScheduler.scala:1589)\r\n\tat org.apache.spark.scheduler.DAGScheduler$$anonfun$handleTaskSetFailed$1.apply(DAGScheduler.scala:831)\r\n\tat org.apache.spark.scheduler.DAGScheduler$$anonfun$handleTaskSetFailed$1.apply(DAGScheduler.scala:831)\r\n\tat scala.Option.foreach(Option.scala:257)\r\n\tat org.apache.spark.scheduler.DAGScheduler.handleTaskSetFailed(DAGScheduler.scala:831)\r\n\tat org.apache.spark.scheduler.DAGSchedulerEventProcessLoop.doOnReceive(DAGScheduler.scala:1823)\r\n\tat org.apache.spark.scheduler.DAGSchedulerEventProcessLoop.onReceive(DAGScheduler.scala:1772)\r\n\tat org.apache.spark.scheduler.DAGSchedulerEventProcessLoop.onReceive(DAGScheduler.scala:1761)\r\n\tat org.apache.spark.util.EventLoop$$anon$1.run(EventLoop.scala:48)\r\n\tat org.apache.spark.scheduler.DAGScheduler.runJob(DAGScheduler.scala:642)\r\n\tat org.apache.spark.SparkContext.runJob(SparkContext.scala:2034)\r\n\tat org.apache.spark.SparkContext.runJob(SparkContext.scala:2055)\r\n\tat org.apache.spark.SparkContext.runJob(SparkContext.scala:2074)\r\n\tat org.apache.spark.sql.execution.SparkPlan.executeTake(SparkPlan.scala:363)\r\n\tat org.apache.spark.sql.execution.CollectLimitExec.executeCollect(limit.scala:38)\r\n\tat org.apache.spark.sql.Dataset.org$apache$spark$sql$Dataset$$collectFromPlan(Dataset.scala:3273)\r\n\tat org.apache.spark.sql.Dataset$$anonfun$head$1.apply(Dataset.scala:2484)\r\n\tat org.apache.spark.sql.Dataset$$anonfun$head$1.apply(Dataset.scala:2484)\r\n\tat org.apache.spark.sql.Dataset$$anonfun$52.apply(Dataset.scala:3254)\r\n\tat org.apache.spark.sql.execution.SQLExecution$.withNewExecutionId(SQLExecution.scala:77)\r\n\tat org.apache.spark.sql.Dataset.withAction(Dataset.scala:3253)\r\n\tat org.apache.spark.sql.Dataset.head(Dataset.scala:2484)\r\n\tat org.apache.spark.sql.Dataset.take(Dataset.scala:2698)\r\n\tat org.apache.spark.sql.Dataset.showString(Dataset.scala:254)\r\n\tat sun.reflect.NativeMethodAccessorImpl.invoke0(Native Method)\r\n\tat sun.reflect.NativeMethodAccessorImpl.invoke(NativeMethodAccessorImpl.java:62)\r\n\tat sun.reflect.DelegatingMethodAccessorImpl.invoke(DelegatingMethodAccessorImpl.java:43)\r\n\tat java.lang.reflect.Method.invoke(Method.java:498)\r\n\tat py4j.reflection.MethodInvoker.invoke(MethodInvoker.java:244)\r\n\tat py4j.reflection.ReflectionEngine.invoke(ReflectionEngine.java:357)\r\n\tat py4j.Gateway.invoke(Gateway.java:282)\r\n\tat py4j.commands.AbstractCommand.invokeMethod(AbstractCommand.java:132)\r\n\tat py4j.commands.CallCommand.execute(CallCommand.java:79)\r\n\tat py4j.GatewayConnection.run(GatewayConnection.java:238)\r\n\tat java.lang.Thread.run(Thread.java:748)\r\nCaused by: java.io.FileNotFoundException: C:\\Users\\FFLP\\AppData\\Local\\Temp\\blockmgr-0ccd6243-1185-4c47-9ff5-ac864fa7ab68\\07\\temp_shuffle_a64438dc-09df-4924-80a8-d3835b33ea63 (The system cannot find the path specified)\r\n\tat java.io.FileOutputStream.open0(Native Method)\r\n\tat java.io.FileOutputStream.open(FileOutputStream.java:270)\r\n\tat java.io.FileOutputStream.<init>(FileOutputStream.java:213)\r\n\tat org.apache.spark.storage.DiskBlockObjectWriter.initialize(DiskBlockObjectWriter.scala:103)\r\n\tat org.apache.spark.storage.DiskBlockObjectWriter.open(DiskBlockObjectWriter.scala:116)\r\n\tat org.apache.spark.storage.DiskBlockObjectWriter.write(DiskBlockObjectWriter.scala:237)\r\n\tat org.apache.spark.shuffle.sort.BypassMergeSortShuffleWriter.write(BypassMergeSortShuffleWriter.java:151)\r\n\tat org.apache.spark.scheduler.ShuffleMapTask.runTask(ShuffleMapTask.scala:96)\r\n\tat org.apache.spark.scheduler.ShuffleMapTask.runTask(ShuffleMapTask.scala:53)\r\n\tat org.apache.spark.scheduler.Task.run(Task.scala:109)\r\n\tat org.apache.spark.executor.Executor$TaskRunner.run(Executor.scala:345)\r\n\tat java.util.concurrent.ThreadPoolExecutor.runWorker(ThreadPoolExecutor.java:1149)\r\n\tat java.util.concurrent.ThreadPoolExecutor$Worker.run(ThreadPoolExecutor.java:624)\r\n\t... 1 more\r\n"
     ]
    }
   ],
   "source": [
    "munname_df = get_munname_df(inp_party, inp_name)\n",
    "munname_df.show()\n",
    "corr_value = get_corr_value(munname_df)\n",
    "print(corr_value)"
   ]
  },
  {
   "cell_type": "code",
   "execution_count": 16,
   "metadata": {},
   "outputs": [
    {
     "name": "stdout",
     "output_type": "stream",
     "text": [
      "+--------+----------+----------+-------------+----------+\n",
      "|Postcode|    Gewest|  Gemeente|Bruto_inkomen|      NAMN|\n",
      "+--------+----------+----------+-------------+----------+\n",
      "|    2630|Vlaanderen|Aartselaar|        23250|Aartselaar|\n",
      "|    2000|Vlaanderen| Antwerpen|        15615| Antwerpen|\n",
      "|    2530|Vlaanderen|  Boechout|        21490|  Boechout|\n",
      "|    2850|Vlaanderen|      Boom|        16918|      Boom|\n",
      "|    2150|Vlaanderen|  Borsbeek|        18745|  Borsbeek|\n",
      "|    2930|Vlaanderen|Brasschaat|        21714|Brasschaat|\n",
      "|    2960|Vlaanderen|    Brecht|        19913|    Brecht|\n",
      "|    2650|Vlaanderen|    Edegem|        22345|    Edegem|\n",
      "|    2910|Vlaanderen|     Essen|        17825|     Essen|\n",
      "|    2620|Vlaanderen|  Hemiksem|        18324|  Hemiksem|\n",
      "|    2540|Vlaanderen|      Hove|        24754|      Hove|\n",
      "|    2920|Vlaanderen| Kalmthout|        19910| Kalmthout|\n",
      "|    2950|Vlaanderen|  Kapellen|        21963|  Kapellen|\n",
      "|    2550|Vlaanderen|   Kontich|        22063|   Kontich|\n",
      "|    2547|Vlaanderen|      Lint|        21487|      Lint|\n",
      "|    2640|Vlaanderen|   Mortsel|        20337|   Mortsel|\n",
      "|    2845|Vlaanderen|      Niel|        17966|      Niel|\n",
      "|    2520|Vlaanderen|     Ranst|        20732|     Ranst|\n",
      "|    2840|Vlaanderen|     Rumst|        20451|     Rumst|\n",
      "|    2627|Vlaanderen|   Schelle|        20122|   Schelle|\n",
      "+--------+----------+----------+-------------+----------+\n",
      "only showing top 20 rows\n",
      "\n"
     ]
    }
   ],
   "source": [
    "loon_data = (sc.textFile('../data/verkiezingen/loonpergemeente.csv')).collect()\n",
    "\n",
    "#making table structure\n",
    "schema = loon_data[0].split(\",\")\n",
    "del(loon_data[0])\n",
    "rowlist = []\n",
    "for line in loon_data:\n",
    "        row = line.split(\",\")\n",
    "        rowlist.append(row)\n",
    "\n",
    "salary_df = sqlContext.createDataFrame(rowlist,schema)\n",
    "salary_df.show()"
   ]
  },
  {
   "cell_type": "code",
   "execution_count": 62,
   "metadata": {
    "scrolled": false
   },
   "outputs": [],
   "source": [
    "def get_salpar_df(partyname):\n",
    "    #Make temporary dataframe to store joined data from election_df and name_df\n",
    "    temp_df = election_df.join(salary_df.select(\"NAMN\",\"Bruto_inkomen\"),election_df.Gemeente == salary_df.NAMN)\n",
    "    \n",
    "    #SQL Query to get the dataframe for firstname\n",
    "    temp_df.createOrReplaceTempView(\"tempview\")\n",
    "    query = \"SELECT Gemeente,\" + partyname + \",Bruto_inkomen FROM tempview\"\n",
    "    result_df = sqlContext.sql(query)\n",
    "    \n",
    "    return result_df"
   ]
  },
  {
   "cell_type": "code",
   "execution_count": 18,
   "metadata": {},
   "outputs": [],
   "source": [
    "#Function to find the correlation between votes for a party and salary\n",
    "def get_salparcorr_value(salpar_df):\n",
    "    #Casting columns to ints, were strings previously\n",
    "    salpar_df = salpar_df.withColumn(inp_salparty, salpar_df[inp_salparty].cast(IntegerType()))\n",
    "    salpar_df = salpar_df.withColumn(\"Bruto_inkomen\", salpar_df[\"Bruto_inkomen\"].cast(IntegerType()))\n",
    "\n",
    "    #Calling a pyspark native function to calculate the correlation\n",
    "    corr_value = salpar_df.stat.corr(inp_salparty, 'Bruto_inkomen')\n",
    "    return corr_value"
   ]
  },
  {
   "cell_type": "code",
   "execution_count": 19,
   "metadata": {},
   "outputs": [
    {
     "data": {
      "text/html": [
       "\n",
       "<div style='background-color:gainsboro; border:solid black; width:300px; padding:20px;'>\n",
       "Partij: <input type=\"text\" id='salparty' value=\"Groen\"/><br>\n",
       " <button onclick=\"set_salparvars()\">Zoek</button> \n",
       "</div>\n",
       "\n",
       "<script type=\"text/Javascript\">\n",
       "    function set_salparvars(){\n",
       "        var var_name1 = 'inp_salparty';\n",
       "        var var_value1 = document.getElementById('salparty').value;\n",
       "        var command1 = var_name1 + \" = '\" + var_value1 + \"'\";\n",
       "        var kernel = IPython.notebook.kernel;\n",
       "        kernel.execute(command1);\n",
       "        cell = IPython.notebook.get_cell(15);\n",
       "        cell.execute();\n",
       "        cell.focus_cell(15);\n",
       "    }\n",
       "</script>\n"
      ],
      "text/plain": [
       "<IPython.core.display.HTML object>"
      ]
     },
     "execution_count": 19,
     "metadata": {},
     "output_type": "execute_result"
    }
   ],
   "source": [
    "#default value for initial run\n",
    "inp_salparty = \"Groen\"\n",
    "\n",
    "#Input form in jupyter notebook\n",
    "form = \"\"\"\n",
    "<div style='background-color:gainsboro; border:solid black; width:300px; padding:20px;'>\n",
    "Partij: <input type=\"text\" id='salparty' value=\"Groen\"/><br>\n",
    " <button onclick=\"set_salparvars()\">Zoek</button> \n",
    "</div>\n",
    "\"\"\"\n",
    "#Called function from button onclick\n",
    "javascript = \"\"\"\n",
    "<script type=\"text/Javascript\">\n",
    "    function set_salparvars(){\n",
    "        var var_name1 = 'inp_salparty';\n",
    "        var var_value1 = document.getElementById('salparty').value;\n",
    "        var command1 = var_name1 + \" = '\" + var_value1 + \"'\";\n",
    "        var kernel = IPython.notebook.kernel;\n",
    "        kernel.execute(command1);\n",
    "        cell = IPython.notebook.get_cell(15);\n",
    "        cell.execute();\n",
    "        cell.focus_cell(15);\n",
    "    }\n",
    "</script>\n",
    "\"\"\"\n",
    "#Rendering the html\n",
    "HTML(form + javascript)"
   ]
  },
  {
   "cell_type": "code",
   "execution_count": 20,
   "metadata": {},
   "outputs": [
    {
     "name": "stdout",
     "output_type": "stream",
     "text": [
      "+------------+-----+-------------+\n",
      "|    Gemeente|Groen|Bruto_inkomen|\n",
      "+------------+-----+-------------+\n",
      "|      Aalter| 1460|        20159|\n",
      "|     Anzegem|  588|        18906|\n",
      "|     Beersel| 1321|        20962|\n",
      "|Begijnendijk|  493|        20703|\n",
      "|      Bornem| 1061|        20514|\n",
      "|    Borsbeek|  698|        18745|\n",
      "|  Brasschaat| 2037|        21714|\n",
      "|     Bredene|  772|        18512|\n",
      "|   Dentergem|  313|        17867|\n",
      "|  Galmaarden|  369|        21081|\n",
      "|       Heers|  186|        17555|\n",
      "|   Herentals| 1623|        18968|\n",
      "|   Herstappe|    6|        20600|\n",
      "|     Herzele|  765|        20092|\n",
      "|  Hoegaarden|  502|        21489|\n",
      "|   Hoeilaart|  631|        21782|\n",
      "|  Kampenhout|  612|        22667|\n",
      "|    Kruibeke| 1020|        19365|\n",
      "|      Kuurne|  670|        17634|\n",
      "|     Laakdal|  570|        18573|\n",
      "+------------+-----+-------------+\n",
      "only showing top 20 rows\n",
      "\n",
      "-0.07818837896064705\n"
     ]
    }
   ],
   "source": [
    "salpar_df = get_salpar_df(inp_salparty)\n",
    "salpar_df.show()\n",
    "corr_value = get_salparcorr_value(salpar_df)\n",
    "print(corr_value)"
   ]
  }
 ],
 "metadata": {
  "kernelspec": {
   "display_name": "Python 3",
   "language": "python",
   "name": "python3"
  },
  "language_info": {
   "codemirror_mode": {
    "name": "ipython",
    "version": 3
   },
   "file_extension": ".py",
   "mimetype": "text/x-python",
   "name": "python",
   "nbconvert_exporter": "python",
   "pygments_lexer": "ipython3",
   "version": "3.6.5"
  }
 },
 "nbformat": 4,
 "nbformat_minor": 2
}
