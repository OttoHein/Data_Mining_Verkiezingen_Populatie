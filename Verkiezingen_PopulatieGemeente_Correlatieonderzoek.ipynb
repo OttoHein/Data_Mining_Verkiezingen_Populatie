{
 "cells": [
  {
   "cell_type": "code",
   "execution_count": 106,
   "metadata": {},
   "outputs": [
    {
     "name": "stdout",
     "output_type": "stream",
     "text": [
      "+-----+\n",
      "|hello|\n",
      "+-----+\n",
      "|spark|\n",
      "+-----+\n",
      "\n"
     ]
    }
   ],
   "source": [
    "import findspark\n",
    "findspark.init()\n",
    "\n",
    "import pyspark # only run after findspark.init()\n",
    "from pyspark.sql import SparkSession\n",
    "\n",
    "from pyspark.sql import *\n",
    "from pyspark.sql.types import *\n",
    "\n",
    "sc = SparkSession.builder.getOrCreate()\n",
    "sqlContext = SQLContext(sc)\n",
    "\n",
    "df = sc.sql('''select 'spark' as hello ''')\n",
    "df.show()"
   ]
  },
  {
   "cell_type": "code",
   "execution_count": 118,
   "metadata": {
    "scrolled": false
   },
   "outputs": [
    {
     "ename": "SyntaxError",
     "evalue": "invalid syntax (<ipython-input-118-851f430cf070>, line 22)",
     "output_type": "error",
     "traceback": [
      "\u001b[1;36m  File \u001b[1;32m\"<ipython-input-118-851f430cf070>\"\u001b[1;36m, line \u001b[1;32m22\u001b[0m\n\u001b[1;33m    schema[] = item[0]\u001b[0m\n\u001b[1;37m           ^\u001b[0m\n\u001b[1;31mSyntaxError\u001b[0m\u001b[1;31m:\u001b[0m invalid syntax\n"
     ]
    }
   ],
   "source": [
    "election_data = (sc.sparkContext.textFile('../data/verkiezingen/verkiezingen2014VL.csv')).collect()\n",
    "\n",
    "#removing unnecessary lines\n",
    "for line in election_data:\n",
    "    if line[0] == \",\":\n",
    "        del(line)\n",
    "\n",
    "#making lists from data\n",
    "lists = []\n",
    "\n",
    "for line in election_data:\n",
    "    if \"PartijNummer\" in line:\n",
    "        lists.append(list)\n",
    "        list = []\n",
    "    list.append(line)\n",
    "\n",
    "#Remove empty lists from lists\n",
    "lists = [x for x in lists if x != []]\n",
    "\n",
    "#making dataframes from lists\n",
    "for item in lists:\n",
    "    item[0]\n",
    "    del(item[0])\n",
    "    df = sqlContext.createDataFrame(item,schema)\n",
    "    df.show()\n"
   ]
  },
  {
   "cell_type": "code",
   "execution_count": null,
   "metadata": {},
   "outputs": [],
   "source": []
  }
 ],
 "metadata": {
  "kernelspec": {
   "display_name": "Python 3",
   "language": "python",
   "name": "python3"
  },
  "language_info": {
   "codemirror_mode": {
    "name": "ipython",
    "version": 3
   },
   "file_extension": ".py",
   "mimetype": "text/x-python",
   "name": "python",
   "nbconvert_exporter": "python",
   "pygments_lexer": "ipython3",
   "version": "3.6.5"
  }
 },
 "nbformat": 4,
 "nbformat_minor": 2
}
